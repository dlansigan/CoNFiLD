{
 "cells": [
  {
   "cell_type": "code",
   "execution_count": 1,
   "id": "bb79ded6",
   "metadata": {},
   "outputs": [],
   "source": [
    "import numpy as np\n",
    "import torch\n",
    "import os\n",
    "# from cnf.utils.normalize import Normalizer_np"
   ]
  },
  {
   "cell_type": "code",
   "execution_count": 4,
   "id": "eb63bc82",
   "metadata": {},
   "outputs": [
    {
     "name": "stdout",
     "output_type": "stream",
     "text": [
      "cuda\n"
     ]
    }
   ],
   "source": [
    "Nt = 40\n",
    "Ng = 20\n",
    "\n",
    "# Set filepaths\n",
    "case = 'NoisyPipe'\n",
    "training_path = 'training/' + case + '/'\n",
    "data_path = 'data/' + case + '/data.npy'\n",
    "coords_path = 'data/' + case + '/coords.npy'\n",
    "coords_o_path = 'data/' + case + '/coords_o.npy'\n",
    "sdf_path = 'data/' + case + '/sdf.npy'\n",
    "sdf_o_path = 'data/' + case + '/sdf_o.npy'\n",
    "\n",
    "# Get device\n",
    "if torch.cuda.is_available():\n",
    "  dev = \"cuda\"\n",
    "else:\n",
    "  dev = \"cpu\"\n",
    "\n",
    "device = torch.device(dev)\n",
    "print(device)\n",
    "\n",
    "# Load latents\n",
    "ckpt = torch.load(training_path + 'checkpoint_9999.pt')\n",
    "latents = ckpt['hidden_states']['latents']\n",
    "latents = latents.cpu().numpy()"
   ]
  },
  {
   "cell_type": "code",
   "execution_count": 5,
   "id": "a8b77d76",
   "metadata": {},
   "outputs": [
    {
     "name": "stdout",
     "output_type": "stream",
     "text": [
      "(20, 40, 40)\n",
      "(16, 40, 40) (4, 40, 40)\n",
      "[[[0.1209851]]] [[[-0.11907468]]]\n"
     ]
    }
   ],
   "source": [
    "# Reshape latents\n",
    "dataset = np.reshape(latents,(Ng,Nt,-1))\n",
    "print(dataset.shape)\n",
    "\n",
    "# Train/validation split\n",
    "np.random.seed(42)\n",
    "train_indices = np.random.choice(Ng, int(0.8*Ng), replace=False)\n",
    "train_test_mask = np.zeros(Ng, dtype=bool)\n",
    "train_test_mask[train_indices] = True\n",
    "train_data  = dataset[train_test_mask]\n",
    "valid_data  = dataset[~train_test_mask]\n",
    "# train_data = np.expand_dims(train_data,axis=1)\n",
    "# valid_data = np.expand_dims(valid_data,axis=1)\n",
    "print(train_data.shape,valid_data.shape)\n",
    "\n",
    "# Get min/max values\n",
    "# normalizer = Normalizer_np(method='-11',dim=0) \n",
    "# normalizer.fit_normalize(train_data) # Determine normalization params only on training set\n",
    "# train_data = normalizer.normalize(train_data)\n",
    "# valid_data = normalizer.normalize(valid_data)\n",
    "# print(np.max(train_data),np.min(train_data),np.max(valid_data),np.min(valid_data))\n",
    "max_val, min_val = np.max(train_data, keepdims=True), np.min(train_data, keepdims=True) # Taken from train.py\n",
    "print(max_val,min_val)\n",
    "\n",
    "# Save\n",
    "save_path = '/home/dana/Documents/CoNFiLD/CoNFiLD/UnconditionalDiffusionTraining_and_Generation/data/NoisyPipe/'\n",
    "os.makedirs(save_path, exist_ok=True)\n",
    "np.save(save_path + 'train_data.npy', train_data)\n",
    "np.save(save_path + 'valid_data.npy', valid_data)\n",
    "np.save(save_path + 'max.npy', max_val)\n",
    "np.save(save_path + 'min.npy', min_val)"
   ]
  },
  {
   "cell_type": "code",
   "execution_count": null,
   "id": "32bd7875",
   "metadata": {},
   "outputs": [],
   "source": []
  }
 ],
 "metadata": {
  "kernelspec": {
   "display_name": "CoNFiLD",
   "language": "python",
   "name": "python3"
  },
  "language_info": {
   "codemirror_mode": {
    "name": "ipython",
    "version": 3
   },
   "file_extension": ".py",
   "mimetype": "text/x-python",
   "name": "python",
   "nbconvert_exporter": "python",
   "pygments_lexer": "ipython3",
   "version": "3.8.18"
  }
 },
 "nbformat": 4,
 "nbformat_minor": 5
}
