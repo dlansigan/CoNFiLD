{
 "cells": [
  {
   "cell_type": "code",
   "execution_count": 1,
   "id": "dcad7a67",
   "metadata": {},
   "outputs": [],
   "source": [
    "import numpy as np\n",
    "import torch\n",
    "import pyvista as pv"
   ]
  },
  {
   "cell_type": "code",
   "execution_count": 10,
   "id": "1c14e9ec",
   "metadata": {},
   "outputs": [
    {
     "data": {
      "text/plain": [
       "4"
      ]
     },
     "execution_count": 10,
     "metadata": {},
     "output_type": "execute_result"
    }
   ],
   "source": [
    "# Load generated fields\n",
    "filepath = '/home/dana/Documents/CoNFiLD/CoNFiLD/UnconditionalDiffusionTraining_and_Generation/training/NoisyPipe/gen_fields.npy'\n",
    "data = np.load(filepath)\n",
    "N_samples = data.shape[0]//40\n",
    "N_samples"
   ]
  },
  {
   "cell_type": "code",
   "execution_count": 3,
   "id": "0b5e093b",
   "metadata": {},
   "outputs": [],
   "source": [
    "# Load non-normalized coordinates\n",
    "sim = 0\n",
    "case = 'NoisyPipe'\n",
    "coords_o_path = 'data/' + case + '/coords_o.npy'\n",
    "sdf_o_path = 'data/' + case + '/sdf_o.npy'\n",
    "sdf_o = np.load(sdf_o_path)\n",
    "sdf_o = sdf_o[sim,:,:]\n",
    "coords_o = np.load(coords_o_path)"
   ]
  },
  {
   "cell_type": "code",
   "execution_count": 14,
   "id": "7570199b",
   "metadata": {},
   "outputs": [
    {
     "data": {
      "application/vnd.jupyter.widget-view+json": {
       "model_id": "8409e34aa56040c4b06221d1815ac6f3",
       "version_major": 2,
       "version_minor": 0
      },
      "text/plain": [
       "Widget(value='<iframe src=\"http://localhost:41619/index.html?ui=P_0x791b31830ec0_9&reconnect=auto\" class=\"pyvi…"
      ]
     },
     "metadata": {},
     "output_type": "display_data"
    }
   ],
   "source": [
    "pl = pv.Plotter(shape=(1,4))\n",
    "tidx = 20\n",
    "for i in range(N_samples):\n",
    "    data_d = data[i*40 + tidx,:,:] # decoded latent\n",
    "\n",
    "    # Reshape for StructuredGrid\n",
    "    mesh_d = pv.StructuredGrid()\n",
    "    mesh_d.points = coords_o\n",
    "    mesh_d.dimensions = (200, 40, 40)  \n",
    "\n",
    "    # Add scalar field\n",
    "    mesh_d['u'] = data_d[:,0]\n",
    "    mesh_d['v'] = data_d[:,1]\n",
    "    mesh_d['w'] = data_d[:,2]\n",
    "    mesh_d['p'] = data_d[:,3]\n",
    "    for scalar in mesh_d.array_names:\n",
    "        if scalar != 'g' or scalar !='m':\n",
    "            mesh_d[scalar] = (mesh_d[scalar]/np.max(np.abs(mesh_d[scalar])))\n",
    "    mesh_d = mesh_d.clip('y')\n",
    "\n",
    "    pmin = np.min(mesh_d['p'][mesh_d['p']!=0])\n",
    "    pmax = np.max(mesh_d['p'][mesh_d['p']!=0])\n",
    "\n",
    "    # Define scalar and value ranges\n",
    "    scalar = 'w'\n",
    "    clim_dict = {\n",
    "        'u': (-1,1),\n",
    "        'v': (-1,1),\n",
    "        'w': (-1,1),\n",
    "        'p': (pmin,pmax),\n",
    "        'g': (-1,1),\n",
    "        'm': (0,1),\n",
    "    }\n",
    "\n",
    "    # Visualize\n",
    "    pl.subplot(0,i)\n",
    "    pl.add_mesh(mesh_d, scalars=scalar,\n",
    "                clim=clim_dict[scalar],\n",
    "                # show_scalar_bar=True\n",
    "                # show_edges=True\n",
    "                )\n",
    "    pl.camera_position='zx'\n",
    "    pl.show_axes()\n",
    "    # pl.add_scalar_bar( )\n",
    "    # pl.add_title('Generated')\n",
    "\n",
    "pl.link_views()\n",
    "pl.show()\n"
   ]
  },
  {
   "cell_type": "code",
   "execution_count": null,
   "id": "64485069",
   "metadata": {},
   "outputs": [],
   "source": []
  }
 ],
 "metadata": {
  "kernelspec": {
   "display_name": "my_env",
   "language": "python",
   "name": "python3"
  },
  "language_info": {
   "codemirror_mode": {
    "name": "ipython",
    "version": 3
   },
   "file_extension": ".py",
   "mimetype": "text/x-python",
   "name": "python",
   "nbconvert_exporter": "python",
   "pygments_lexer": "ipython3",
   "version": "3.12.3"
  }
 },
 "nbformat": 4,
 "nbformat_minor": 5
}
