{
 "cells": [
  {
   "cell_type": "code",
   "execution_count": 29,
   "id": "9b300e03",
   "metadata": {},
   "outputs": [],
   "source": [
    "import numpy as np\n",
    "import torch\n",
    "from cnf.inference_function import decoder\n",
    "from cnf.utils.normalize import Normalizer_masked\n",
    "from cnf.nf_networks import SIRENAutodecoder_film\n",
    "import pyvista as pv"
   ]
  },
  {
   "cell_type": "code",
   "execution_count": 146,
   "id": "b059015b",
   "metadata": {},
   "outputs": [
    {
     "name": "stdout",
     "output_type": "stream",
     "text": [
      "cuda\n"
     ]
    }
   ],
   "source": [
    "# Set simulation id\n",
    "sim = 0\n",
    "Nt = 40\n",
    "Ng = 20\n",
    "\n",
    "# Set filepaths\n",
    "case = 'NoisyPipe'\n",
    "training_path = 'training/' + case + '/'\n",
    "data_path = 'data/' + case + '/data.npy'\n",
    "coords_path = 'data/' + case + '/coords.npy'\n",
    "coords_o_path = 'data/' + case + '/coords_o.npy'\n",
    "sdf_path = 'data/' + case + '/sdf.npy'\n",
    "sdf_o_path = 'data/' + case + '/sdf_o.npy'\n",
    "\n",
    "# Get device\n",
    "if torch.cuda.is_available():\n",
    "  dev = \"cuda\"\n",
    "else:\n",
    "  dev = \"cpu\"\n",
    "\n",
    "device = torch.device(dev)\n",
    "print(device)\n",
    "\n",
    "# Load latents\n",
    "ckpt = torch.load(training_path + 'checkpoint_9999.pt')\n",
    "latents = ckpt['hidden_states']['latents']\n",
    "# latents = latents.cpu().numpy()\n",
    "z = latents[sim*Nt:sim*Nt+Nt,:]\n",
    "\n",
    "# Load model\n",
    "model = SIRENAutodecoder_film(4,Nt,4,15,Nt) \n",
    "model.load_state_dict(ckpt['model_state_dict'])\n",
    "model.eval() \n",
    "model.to(device)\n",
    "\n",
    "# Load original data\n",
    "data = np.load(data_path)\n",
    "data = data[sim*Nt:sim*Nt+Nt,:,:]\n",
    "sdf = np.load(sdf_path)\n",
    "sdf = sdf[sim,:,:]\n",
    "sdf_t = torch.tensor(sdf, device = device).float()\n",
    "sdf_o = np.load(sdf_o_path)\n",
    "sdf_o = sdf_o[sim,:,:]\n",
    "coords = np.load(coords_path)\n",
    "coords_t = torch.tensor(coords, device = device).float()\n",
    "coords_o = np.load(coords_o_path)\n",
    "\n",
    "# Assemble input\n",
    "input = torch.cat([coords_t, sdf_t], axis=1)\n",
    "input.size()[-1]\n",
    "\n",
    "# Load normalizers\n",
    "norm_params = torch.load('training/NoisyPipe/normalizer_params.pt')\n",
    "x_norm = norm_params['x_normalizer_params']\n",
    "y_norm = norm_params['y_normalizer_params']\n",
    "x_normalizer = None\n",
    "y_normalizer = Normalizer_masked(method='-11',dim=0,params=y_norm,sdf=sdf_t.reshape((1,-1,1)),N_samp=Nt*Ng,N_chan=4)\n"
   ]
  },
  {
   "cell_type": "code",
   "execution_count": 147,
   "id": "00ea2b81",
   "metadata": {},
   "outputs": [
    {
     "data": {
      "text/plain": [
       "torch.Size([40, 320000, 4])"
      ]
     },
     "execution_count": 147,
     "metadata": {},
     "output_type": "execute_result"
    }
   ],
   "source": [
    "out = decoder(input,z,model,x_normalizer,y_normalizer,Nt,device)\n",
    "out.shape"
   ]
  },
  {
   "cell_type": "code",
   "execution_count": 166,
   "id": "0ba30904",
   "metadata": {},
   "outputs": [
    {
     "data": {
      "application/vnd.jupyter.widget-view+json": {
       "model_id": "4c354b26c12843fe8f69452ad9adefea",
       "version_major": 2,
       "version_minor": 0
      },
      "text/plain": [
       "Widget(value='<iframe src=\"http://localhost:33601/index.html?ui=P_0x7317efea2990_106&reconnect=auto\" class=\"py…"
      ]
     },
     "metadata": {},
     "output_type": "display_data"
    }
   ],
   "source": [
    "tidx = 20\n",
    "data_d = out[tidx,:,:].cpu().numpy() # decoded latent\n",
    "data_o = data[tidx,:,:] # original\n",
    "# DEBUG\n",
    "# data_d = torch.load('output_debug.pt').cpu().detach().numpy()\n",
    "# data_d = data_d[0,:,:]\n",
    "# sdf = torch.load('sdf_debug.pt').cpu().detach().numpy()\n",
    "# sdf = sdf[0,:,:]\n",
    "# sdf2 = np.load(sdf_path)\n",
    "# sdf2 = sdf2[34,:,:]\n",
    "\n",
    "# Reshape for StructuredGrid\n",
    "mesh_d = pv.StructuredGrid()\n",
    "mesh_d.points = coords_o\n",
    "mesh_d.dimensions = (200, 40, 40)  \n",
    "mesh_o = mesh_d.copy()\n",
    "\n",
    "# Add scalar field\n",
    "mesh_o['u'] = data_o[:,0]\n",
    "mesh_o['v'] = data_o[:,1]\n",
    "mesh_o['w'] = data_o[:,2]\n",
    "mesh_o['p'] = data_o[:,3]\n",
    "# mesh_o['p'] = mesh_o['p']/np.maximum(mesh_o['p'],5e4)\n",
    "mesh_o['g'] = sdf_o\n",
    "mesh_o['m'] = sdf_o>0\n",
    "mesh_o = mesh_o.clip('y')\n",
    "\n",
    "mesh_d['g'] = sdf_o\n",
    "mesh_d['m'] = sdf_o>0\n",
    "mesh_d['u'] = data_d[:,0]\n",
    "mesh_d['v'] = data_d[:,1]\n",
    "mesh_d['w'] = data_d[:,2]\n",
    "mesh_d['p'] = data_d[:,3]\n",
    "for scalar in mesh_d.array_names:\n",
    "    if scalar != 'g' or scalar !='m':\n",
    "        mesh_d[scalar] = (mesh_d[scalar]/np.max(np.abs(mesh_o[scalar])))#*mesh_d['m'] \n",
    "        mesh_o[scalar] = mesh_o[scalar]/np.max(np.abs(mesh_o[scalar]))#*mesh_o['m'] \n",
    "        # mesh_d[scalar] = mesh_d[scalar]*mesh_d['m'] \n",
    "mesh_d = mesh_d.clip('y')\n",
    "\n",
    "pmin = np.min(mesh_o['p'][mesh_o['p']!=0])\n",
    "pmax = np.max(mesh_o['p'][mesh_o['p']!=0])\n",
    "\n",
    "# Define scalar and value ranges\n",
    "scalar = 'u'\n",
    "clim_dict = {\n",
    "    'u': (-1,1),\n",
    "    'v': (-1,1),\n",
    "    'w': (-1,1),\n",
    "    'p': (pmin,pmax),\n",
    "    'g': (-1,1),\n",
    "    'm': (0,1),\n",
    "}\n",
    "\n",
    "# Visualize\n",
    "pl = pv.Plotter(shape=(1,2))\n",
    "pl.subplot(0,0)\n",
    "pl.add_mesh(mesh_o, scalars=scalar,\n",
    "            clim=clim_dict[scalar],\n",
    "            # show_scalar_bar=False\n",
    "            # show_edges=True\n",
    "            )\n",
    "pl.camera_position='zx'\n",
    "pl.show_axes()\n",
    "# pl.add_scalar_bar()\n",
    "pl.add_title('Original')\n",
    "pl.subplot(0,1)\n",
    "pl.add_mesh(mesh_d, scalars=scalar,\n",
    "            clim=clim_dict[scalar],\n",
    "            # show_scalar_bar=True\n",
    "            # show_edges=True\n",
    "            )\n",
    "pl.camera_position='zx'\n",
    "pl.show_axes()\n",
    "# pl.add_scalar_bar( )\n",
    "pl.add_title('Decoded')\n",
    "\n",
    "pl.link_views()\n",
    "pl.show()\n"
   ]
  },
  {
   "cell_type": "code",
   "execution_count": null,
   "id": "28d5938d",
   "metadata": {},
   "outputs": [],
   "source": []
  }
 ],
 "metadata": {
  "kernelspec": {
   "display_name": "my_env",
   "language": "python",
   "name": "python3"
  },
  "language_info": {
   "codemirror_mode": {
    "name": "ipython",
    "version": 3
   },
   "file_extension": ".py",
   "mimetype": "text/x-python",
   "name": "python",
   "nbconvert_exporter": "python",
   "pygments_lexer": "ipython3",
   "version": "3.12.3"
  }
 },
 "nbformat": 4,
 "nbformat_minor": 5
}
