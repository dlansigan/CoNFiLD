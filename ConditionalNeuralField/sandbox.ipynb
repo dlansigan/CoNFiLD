{
 "cells": [
  {
   "cell_type": "code",
   "execution_count": 131,
   "id": "953f6440",
   "metadata": {},
   "outputs": [],
   "source": [
    "import numpy as np"
   ]
  },
  {
   "cell_type": "code",
   "execution_count": 2,
   "id": "05f4b9e3",
   "metadata": {},
   "outputs": [
    {
     "data": {
      "text/plain": [
       "(1600, 65536, 5)"
      ]
     },
     "execution_count": 2,
     "metadata": {},
     "output_type": "execute_result"
    }
   ],
   "source": [
    "data = np.load('data/NoisyPipe/data.npy')\n",
    "# data = np.load('data/Case4/coords.npy')\n",
    "data.shape\n",
    "\n",
    "# test=np.stack([data,data])\n",
    "# np.vstack([test,test]).shape\n",
    "\n",
    "# from einops import rearrange\n",
    "# rearrange(data, \"t N c -> t N c\")==data\n",
    "# 999999999==999999999"
   ]
  },
  {
   "cell_type": "code",
   "execution_count": 81,
   "id": "f56d90f6",
   "metadata": {},
   "outputs": [
    {
     "name": "stdout",
     "output_type": "stream",
     "text": [
      "(1600, 65536, 5) (65536, 3)\n"
     ]
    }
   ],
   "source": [
    "coords = np.load('data/NoisyPipe/coords_time.npy')\n",
    "data = np.load('data/NoisyPipe/data.npy')\n",
    "coords = coords[0,:,:]\n",
    "# coords.shape\n",
    "np.save('data/NoisyPipe/coords.npy',coords)\n",
    "print(data.shape,coords.shape)"
   ]
  },
  {
   "cell_type": "code",
   "execution_count": null,
   "id": "6a9d77a1",
   "metadata": {},
   "outputs": [
    {
     "ename": "",
     "evalue": "",
     "output_type": "error",
     "traceback": [
      "\u001b[1;31mThe Kernel crashed while executing code in the current cell or a previous cell. \n",
      "\u001b[1;31mPlease review the code in the cell(s) to identify a possible cause of the failure. \n",
      "\u001b[1;31mClick <a href='https://aka.ms/vscodeJupyterKernelCrash'>here</a> for more info. \n",
      "\u001b[1;31mView Jupyter <a href='command:jupyter.viewOutput'>log</a> for further details."
     ]
    }
   ],
   "source": [
    "data = np.load('data/NoisyPipe/data.npy')\n",
    "data[data==9e6]=0.0\n",
    "np.save('data/NoisyPipe/data.npy',data)\n"
   ]
  },
  {
   "cell_type": "code",
   "execution_count": 45,
   "id": "068abef7",
   "metadata": {},
   "outputs": [
    {
     "data": {
      "text/plain": [
       "1"
      ]
     },
     "execution_count": 45,
     "metadata": {},
     "output_type": "execute_result"
    }
   ],
   "source": [
    "def test():\n",
    "    return 1\n",
    "\n",
    "globals()['test']()"
   ]
  },
  {
   "cell_type": "code",
   "execution_count": 86,
   "id": "d4c1e703",
   "metadata": {},
   "outputs": [
    {
     "data": {
      "text/plain": [
       "tensor(1., dtype=torch.float64)"
      ]
     },
     "execution_count": 86,
     "metadata": {},
     "output_type": "execute_result"
    }
   ],
   "source": [
    "import torch\n",
    "\n",
    "batch_output = torch.tensor(data)\n",
    "batch_fois = batch_output-1\n",
    "sdf = batch_output[:,:,[4]]\n",
    "mask = sdf > 0\n",
    "mask = mask.expand_as(batch_output)\n",
    "sq_err = (batch_output-batch_fois)**2\n",
    "masked_err = sq_err * mask\n",
    "if mask.sum() > 0:\n",
    "    mse = masked_err.sum()/mask.sum()\n",
    "else: \n",
    "    mse = torch.tensor(0.0, device = batch_output.device)\n",
    "\n",
    "\n",
    "mse"
   ]
  },
  {
   "cell_type": "code",
   "execution_count": 100,
   "id": "59910f4a",
   "metadata": {},
   "outputs": [],
   "source": [
    "import torch\n",
    "data = np.load('data/NoisyPipe/data.npy')\n",
    "coords = np.load('data/NoisyPipe/coords.npy')\n",
    "test = torch.load('training/NoisyPipe/normalizer_params.pt')\n",
    "sdf = data[0,:,4]"
   ]
  },
  {
   "cell_type": "code",
   "execution_count": 101,
   "id": "c6ff82bd",
   "metadata": {},
   "outputs": [
    {
     "data": {
      "text/plain": [
       "torch.Size([1, 65536, 4])"
      ]
     },
     "execution_count": 101,
     "metadata": {},
     "output_type": "execute_result"
    }
   ],
   "source": [
    "(test['y_normalizer_params'][0].isnan()).any()\n",
    "# (torch.tensor(data)==0).any()\n",
    "test['y_normalizer_params'][0].shape"
   ]
  },
  {
   "cell_type": "code",
   "execution_count": 130,
   "id": "5236d8bf",
   "metadata": {},
   "outputs": [
    {
     "data": {
      "text/plain": [
       "dict_keys(['epoch', 'model_state_dict', 'optim_states_dict', 'optim_net_dec_dict', 'hidden_states'])"
      ]
     },
     "execution_count": 130,
     "metadata": {},
     "output_type": "execute_result"
    }
   ],
   "source": [
    "test = torch.load('training/NoisyPipe/checkpoint_0.pt')\n",
    "test.keys()"
   ]
  },
  {
   "cell_type": "code",
   "execution_count": 126,
   "id": "1cf65d27",
   "metadata": {},
   "outputs": [
    {
     "data": {
      "text/plain": [
       "array([2, 3])"
      ]
     },
     "execution_count": 126,
     "metadata": {},
     "output_type": "execute_result"
    }
   ],
   "source": [
    "test = np.random.rand(1,2,3)\n",
    "dims=(1,2)\n",
    "# torch.zeros(test.shape[dims])\n",
    "np.array(test.shape)[list(dims)]"
   ]
  }
 ],
 "metadata": {
  "kernelspec": {
   "display_name": "CoNFiLD",
   "language": "python",
   "name": "python3"
  },
  "language_info": {
   "codemirror_mode": {
    "name": "ipython",
    "version": 3
   },
   "file_extension": ".py",
   "mimetype": "text/x-python",
   "name": "python",
   "nbconvert_exporter": "python",
   "pygments_lexer": "ipython3",
   "version": "3.8.18"
  }
 },
 "nbformat": 4,
 "nbformat_minor": 5
}
